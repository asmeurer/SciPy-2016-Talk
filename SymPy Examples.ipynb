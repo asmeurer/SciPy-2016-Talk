{
 "cells": [
  {
   "cell_type": "code",
   "execution_count": 1,
   "metadata": {
    "collapsed": true
   },
   "outputs": [],
   "source": [
    "from sympy import *\n",
    "init_printing()\n",
    "x, y, z = symbols('x y, z')\n",
    "s, t = symbols('s t', positive=True)"
   ]
  },
  {
   "cell_type": "code",
   "execution_count": 2,
   "metadata": {
    "collapsed": false,
    "scrolled": true
   },
   "outputs": [
    {
     "data": {
      "image/png": "[encoded data removed]",
      "text/latex": [
       "$$\\int_{0}^{\\infty} \\frac{\\log{\\left (t \\right )}}{e^{s t}}\\, dt$$"
      ],
      "text/plain": [
       "∞                \n",
       "⌠                \n",
       "⎮  -s⋅t          \n",
       "⎮ ℯ    ⋅log(t) dt\n",
       "⌡                \n",
       "0                "
      ]
     },
     "execution_count": 2,
     "metadata": {},
     "output_type": "execute_result"
    }
   ],
   "source": [
    "Integral(exp(-s*t)*log(t), (t, 0, oo))"
   ]
  },
  {
   "cell_type": "code",
   "execution_count": 3,
   "metadata": {
    "collapsed": false
   },
   "outputs": [
    {
     "data": {
      "image/png": "[encoded data removed]",
      "text/latex": [
       "$$- \\frac{1}{s} \\left(\\log{\\left (s \\right )} + \\gamma\\right)$$"
      ],
      "text/plain": [
       "-(log(s) + EulerGamma) \n",
       "───────────────────────\n",
       "           s           "
      ]
     },
     "execution_count": 3,
     "metadata": {},
     "output_type": "execute_result"
    }
   ],
   "source": [
    "integrate(exp(-s*t)*log(t), (t, 0, oo)).simplify()"
   ]
  },
  {
   "cell_type": "code",
   "execution_count": 4,
   "metadata": {
    "collapsed": false
   },
   "outputs": [
    {
     "data": {
      "image/png": "[encoded data removed]",
      "text/latex": [
       "$$\\left [ x - y + z^{2} - 8, \\quad x + 2 y - 5, \\quad x z + y - 5\\right ]$$"
      ],
      "text/plain": [
       "⎡         2                              ⎤\n",
       "⎣x - y + z  - 8, x + 2⋅y - 5, x⋅z + y - 5⎦"
      ]
     },
     "execution_count": 4,
     "metadata": {},
     "output_type": "execute_result"
    }
   ],
   "source": [
    "[x - y + z**2 - 8, x + 2*y - 5, z*x + y - 5]"
   ]
  },
  {
   "cell_type": "code",
   "execution_count": 5,
   "metadata": {
    "collapsed": false
   },
   "outputs": [
    {
     "data": {
      "image/png": "[encoded data removed]",
      "text/latex": [
       "$$\\left [ \\left ( 1, \\quad 2, \\quad 3\\right ), \\quad \\left ( \\frac{35}{12} + \\frac{5 \\sqrt{73}}{12}, \\quad - \\frac{5 \\sqrt{73}}{24} + \\frac{25}{24}, \\quad - \\frac{5}{4} + \\frac{\\sqrt{73}}{4}\\right ), \\quad \\left ( - \\frac{5 \\sqrt{73}}{12} + \\frac{35}{12}, \\quad \\frac{25}{24} + \\frac{5 \\sqrt{73}}{24}, \\quad - \\frac{\\sqrt{73}}{4} - \\frac{5}{4}\\right )\\right ]$$"
      ],
      "text/plain": [
       "⎡           ⎛35   5⋅√73    5⋅√73   25    5   √73⎞  ⎛  5⋅√73   35  25   5⋅√73  \n",
       "⎢(1, 2, 3), ⎜── + ─────, - ───── + ──, - ─ + ───⎟, ⎜- ───── + ──, ── + ─────, \n",
       "⎣           ⎝12     12       24    24    4    4 ⎠  ⎝    12    12  24     24   \n",
       "\n",
       "  √73   5⎞⎤\n",
       "- ─── - ─⎟⎥\n",
       "   4    4⎠⎦"
      ]
     },
     "execution_count": 5,
     "metadata": {},
     "output_type": "execute_result"
    }
   ],
   "source": [
    "solve([x - y + z**2 - 8, x + 2*y - 5, z*x + y - 5], [x, y, z])"
   ]
  },
  {
   "cell_type": "code",
   "execution_count": null,
   "metadata": {
    "collapsed": true
   },
   "outputs": [],
   "source": []
  }
 ],
 "metadata": {
  "anaconda-cloud": {},
  "kernelspec": {
   "display_name": "Python [Root]",
   "language": "python",
   "name": "Python [Root]"
  },
  "language_info": {
   "codemirror_mode": {
    "name": "ipython",
    "version": 3
   },
   "file_extension": ".py",
   "mimetype": "text/x-python",
   "name": "python",
   "nbconvert_exporter": "python",
   "pygments_lexer": "ipython3",
   "version": "3.5.1"
  },
  "widgets": {
   "state": {},
   "version": "1.1.2"
  }
 },
 "nbformat": 4,
 "nbformat_minor": 0
}
