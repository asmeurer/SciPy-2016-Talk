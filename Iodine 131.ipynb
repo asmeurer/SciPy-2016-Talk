{
 "cells": [
  {
   "cell_type": "code",
   "execution_count": 1,
   "metadata": {
    "collapsed": false
   },
   "outputs": [],
   "source": [
    "from sympy import *\n",
    "init_printing()\n",
    "t = symbols('t')\n",
    "I131, Xe131, Xe131m = symbols([r'^{131}I', r'^{131}Xe', r'^{131*}Xe'], cls=Function)\n",
    "T_I131, T_Xe131m = symbols('T_I131, T_Xe131m')\n",
    "lambda_I131, lambda_Xe131, lambda_Xe131m = symbols([r'\\lambda_{^{131}\\mathrm{I}}', r'\\lambda_{^{131}\\mathrm{Xe}}', r'\\lambda_{^{131*}\\mathrm{Xe}}'])\n",
    "gamma_I131_Xe131, gamma_I131_Xe131m, gamma_Xe131m_Xe131 = symbols([r'\\gamma_{^{131}\\mathrm{I}\\rightarrow^{131}\\mathrm{Xe}}', r'\\gamma_{^{131}\\mathrm{I}\\rightarrow^{131*}\\mathrm{Xe}}', r'\\gamma_{^{131*}\\mathrm{Xe}\\rightarrow^{131}\\mathrm{Xe}}'])"
   ]
  },
  {
   "cell_type": "code",
   "execution_count": 2,
   "metadata": {
    "collapsed": false
   },
   "outputs": [],
   "source": [
    "from sympy.physics.units import days, seconds\n",
    "values = {\n",
    "    T_I131: 8.0197*days,\n",
    "    T_Xe131m: 11.84*days,\n",
    "    lambda_I131: log(2.)*seconds/T_I131,\n",
    "    lambda_Xe131: 0,\n",
    "    lambda_Xe131m: log(2.)*seconds/T_Xe131m,\n",
    "    gamma_I131_Xe131: 0.89,\n",
    "    gamma_I131_Xe131m: 0.11,\n",
    "    gamma_Xe131m_Xe131: 1,\n",
    "}\n",
    "var_names = {\n",
    "    I131: \"I131\",\n",
    "    Xe131: \"Xe131\",\n",
    "    Xe131m: \"Xe131m\",\n",
    "}"
   ]
  },
  {
   "cell_type": "code",
   "execution_count": 3,
   "metadata": {
    "collapsed": false
   },
   "outputs": [],
   "source": [
    "system = Tuple(\n",
    "    Eq(I131(t).diff(t), -lambda_I131*I131(t)),\n",
    "    Eq(Xe131(t).diff(t), -lambda_Xe131*Xe131(t) + lambda_I131*gamma_I131_Xe131*I131(t) + lambda_Xe131m*gamma_Xe131m_Xe131*Xe131m(t)),\n",
    "    Eq(Xe131m(t).diff(t), -lambda_Xe131m*Xe131m(t) + lambda_I131*gamma_I131_Xe131m*I131(t)),\n",
    ")"
   ]
  },
  {
   "cell_type": "code",
   "execution_count": 4,
   "metadata": {
    "collapsed": false
   },
   "outputs": [
    {
     "data": {
      "image/png": "[encoded data removed]",
      "text/latex": [
       "$$\\left ( \\frac{d}{d t} \\operatorname{^{131}I}{\\left (t \\right )} = - \\lambda_{^{131}\\mathrm{I}} \\operatorname{^{131}I}{\\left (t \\right )}, \\quad \\frac{d}{d t} \\operatorname{^{131}Xe}{\\left (t \\right )} = \\gamma_{^{131*}\\mathrm{Xe}\\rightarrow^{131}\\mathrm{Xe}} \\lambda_{^{131*}\\mathrm{Xe}} \\operatorname{^{131*}Xe}{\\left (t \\right )} + \\gamma_{^{131}\\mathrm{I}\\rightarrow^{131}\\mathrm{Xe}} \\lambda_{^{131}\\mathrm{I}} \\operatorname{^{131}I}{\\left (t \\right )} - \\lambda_{^{131}\\mathrm{Xe}} \\operatorname{^{131}Xe}{\\left (t \\right )}, \\quad \\frac{d}{d t} \\operatorname{^{131*}Xe}{\\left (t \\right )} = \\gamma_{^{131}\\mathrm{I}\\rightarrow^{131*}\\mathrm{Xe}} \\lambda_{^{131}\\mathrm{I}} \\operatorname{^{131}I}{\\left (t \\right )} - \\lambda_{^{131*}\\mathrm{Xe}} \\operatorname{^{131*}Xe}{\\left (t \\right )}\\right )$$"
      ],
      "text/plain": [
       "⎛d                                                         d                  \n",
       "⎜──(^{131}I(t)) = -\\lambda_{__{131}\\mathrm{I}}⋅^{131}I(t), ──(^{131}Xe(t)) = \\\n",
       "⎝dt                                                        dt                 \n",
       "\n",
       "                                                                              \n",
       "gamma_{__{131*}\\mathrm{Xe}\\rightarrow__{131}\\mathrm{Xe}}⋅\\lambda_{__{131*}\\mat\n",
       "                                                                              \n",
       "\n",
       "                                                                              \n",
       "hrm{Xe}}⋅^{131*}Xe(t) + \\gamma_{__{131}\\mathrm{I}\\rightarrow__{131}\\mathrm{Xe}\n",
       "                                                                              \n",
       "\n",
       "                                                                              \n",
       "}⋅\\lambda_{__{131}\\mathrm{I}}⋅^{131}I(t) - \\lambda_{__{131}\\mathrm{Xe}}⋅^{131}\n",
       "                                                                              \n",
       "\n",
       "       d                                                                      \n",
       "Xe(t), ──(^{131*}Xe(t)) = \\gamma_{__{131}\\mathrm{I}\\rightarrow__{131*}\\mathrm{\n",
       "       dt                                                                     \n",
       "\n",
       "                                                                              \n",
       "Xe}}⋅\\lambda_{__{131}\\mathrm{I}}⋅^{131}I(t) - \\lambda_{__{131*}\\mathrm{Xe}}⋅^{\n",
       "                                                                              \n",
       "\n",
       "          ⎞\n",
       "131*}Xe(t)⎟\n",
       "          ⎠"
      ]
     },
     "execution_count": 4,
     "metadata": {},
     "output_type": "execute_result"
    }
   ],
   "source": [
    "system"
   ]
  },
  {
   "cell_type": "code",
   "execution_count": 5,
   "metadata": {
    "collapsed": false
   },
   "outputs": [
    {
     "data": {
      "image/png": "[encoded data removed]",
      "text/latex": [
       "$$\\left ( \\frac{d}{d t} \\operatorname{^{131}I}{\\left (t \\right )} = - 1.00035373044333 \\cdot 10^{-6} \\operatorname{^{131}I}{\\left (t \\right )}, \\quad \\frac{d}{d t} \\operatorname{^{131}Xe}{\\left (t \\right )} = 6.7757912263821 \\cdot 10^{-7} \\operatorname{^{131*}Xe}{\\left (t \\right )} + 8.90314820094567 \\cdot 10^{-7} \\operatorname{^{131}I}{\\left (t \\right )}, \\quad \\frac{d}{d t} \\operatorname{^{131*}Xe}{\\left (t \\right )} = - 6.7757912263821 \\cdot 10^{-7} \\operatorname{^{131*}Xe}{\\left (t \\right )} + 1.10038910348767 \\cdot 10^{-7} \\operatorname{^{131}I}{\\left (t \\right )}\\right )$$"
      ],
      "text/plain": [
       "⎛d                                                 d                          \n",
       "⎜──(^{131}I(t)) = -1.00035373044333e-6⋅^{131}I(t), ──(^{131}Xe(t)) = 6.7757912\n",
       "⎝dt                                                dt                         \n",
       "\n",
       "                                                         d                    \n",
       "263821e-7⋅^{131*}Xe(t) + 8.90314820094567e-7⋅^{131}I(t), ──(^{131*}Xe(t)) = -6\n",
       "                                                         dt                   \n",
       "\n",
       "                                                               ⎞\n",
       ".7757912263821e-7⋅^{131*}Xe(t) + 1.10038910348767e-7⋅^{131}I(t)⎟\n",
       "                                                               ⎠"
      ]
     },
     "execution_count": 5,
     "metadata": {},
     "output_type": "execute_result"
    }
   ],
   "source": [
    "nsystem = system.subs(values).subs(values)\n",
    "nsystem"
   ]
  },
  {
   "cell_type": "code",
   "execution_count": 6,
   "metadata": {
    "collapsed": false,
    "scrolled": true
   },
   "outputs": [
    {
     "data": {
      "image/png": "[encoded data removed]",
      "text/latex": [
       "$$\\left ( \\operatorname{^{131}I}{\\left (t \\right )} = \\frac{\\gamma_{^{131}\\mathrm{I}\\rightarrow^{131*}\\mathrm{Xe}} \\lambda_{^{131}\\mathrm{I}} e^{- \\lambda_{^{131}\\mathrm{I}} t}}{\\lambda_{^{131*}\\mathrm{Xe}} - \\lambda_{^{131}\\mathrm{I}}} \\left(- \\frac{\\gamma_{^{131*}\\mathrm{Xe}\\rightarrow^{131}\\mathrm{Xe}} \\lambda_{^{131*}\\mathrm{Xe}}}{\\gamma_{^{131}\\mathrm{I}\\rightarrow^{131}\\mathrm{Xe}} \\lambda_{^{131}\\mathrm{I}}} - \\frac{1}{\\gamma_{^{131}\\mathrm{I}\\rightarrow^{131*}\\mathrm{Xe}} \\lambda_{^{131}\\mathrm{I}}} \\left(- \\frac{\\gamma_{^{131*}\\mathrm{Xe}\\rightarrow^{131}\\mathrm{Xe}} \\gamma_{^{131}\\mathrm{I}\\rightarrow^{131*}\\mathrm{Xe}}}{\\gamma_{^{131}\\mathrm{I}\\rightarrow^{131}\\mathrm{Xe}}} \\lambda_{^{131*}\\mathrm{Xe}} - \\lambda_{^{131*}\\mathrm{Xe}} + \\lambda_{^{131}\\mathrm{I}}\\right)\\right), \\quad \\operatorname{^{131}Xe}{\\left (t \\right )} = \\frac{\\gamma_{^{131*}\\mathrm{Xe}\\rightarrow^{131}\\mathrm{Xe}} \\gamma_{^{131}\\mathrm{I}\\rightarrow^{131*}\\mathrm{Xe}} \\lambda_{^{131*}\\mathrm{Xe}} \\lambda_{^{131}\\mathrm{I}} e^{- \\lambda_{^{131*}\\mathrm{Xe}} t}}{\\left(\\lambda_{^{131*}\\mathrm{Xe}} - \\lambda_{^{131}\\mathrm{I}}\\right) \\left(\\lambda_{^{131*}\\mathrm{Xe}} - \\lambda_{^{131}\\mathrm{Xe}}\\right)} + \\frac{\\gamma_{^{131}\\mathrm{I}\\rightarrow^{131}\\mathrm{Xe}} \\lambda_{^{131}\\mathrm{I}} e^{- \\lambda_{^{131}\\mathrm{I}} t}}{\\left(\\lambda_{^{131*}\\mathrm{Xe}} - \\lambda_{^{131}\\mathrm{I}}\\right) \\left(\\lambda_{^{131}\\mathrm{I}} - \\lambda_{^{131}\\mathrm{Xe}}\\right)} \\left(- \\frac{\\gamma_{^{131*}\\mathrm{Xe}\\rightarrow^{131}\\mathrm{Xe}} \\gamma_{^{131}\\mathrm{I}\\rightarrow^{131*}\\mathrm{Xe}}}{\\gamma_{^{131}\\mathrm{I}\\rightarrow^{131}\\mathrm{Xe}}} \\lambda_{^{131*}\\mathrm{Xe}} - \\lambda_{^{131*}\\mathrm{Xe}} + \\lambda_{^{131}\\mathrm{I}}\\right) + \\frac{\\lambda_{^{131}\\mathrm{I}} \\left(\\gamma_{^{131*}\\mathrm{Xe}\\rightarrow^{131}\\mathrm{Xe}} \\gamma_{^{131}\\mathrm{I}\\rightarrow^{131*}\\mathrm{Xe}} \\lambda_{^{131*}\\mathrm{Xe}} + \\gamma_{^{131}\\mathrm{I}\\rightarrow^{131}\\mathrm{Xe}} \\lambda_{^{131*}\\mathrm{Xe}} - \\gamma_{^{131}\\mathrm{I}\\rightarrow^{131}\\mathrm{Xe}} \\lambda_{^{131}\\mathrm{Xe}}\\right) e^{- \\lambda_{^{131}\\mathrm{Xe}} t}}{\\lambda_{^{131*}\\mathrm{Xe}} \\lambda_{^{131}\\mathrm{I}} - \\lambda_{^{131*}\\mathrm{Xe}} \\lambda_{^{131}\\mathrm{Xe}} - \\lambda_{^{131}\\mathrm{I}} \\lambda_{^{131}\\mathrm{Xe}} + \\lambda_{^{131}\\mathrm{Xe}}^{2}}, \\quad \\operatorname{^{131*}Xe}{\\left (t \\right )} = \\frac{\\gamma_{^{131}\\mathrm{I}\\rightarrow^{131*}\\mathrm{Xe}} \\lambda_{^{131}\\mathrm{I}} e^{- \\lambda_{^{131}\\mathrm{I}} t}}{\\lambda_{^{131*}\\mathrm{Xe}} - \\lambda_{^{131}\\mathrm{I}}} - \\frac{\\gamma_{^{131}\\mathrm{I}\\rightarrow^{131*}\\mathrm{Xe}} \\lambda_{^{131}\\mathrm{I}} e^{- \\lambda_{^{131*}\\mathrm{Xe}} t}}{\\lambda_{^{131*}\\mathrm{Xe}} - \\lambda_{^{131}\\mathrm{I}}}\\right )$$"
      ],
      "text/plain": [
       "⎛                                                                             \n",
       "⎜                                                                             \n",
       "⎜                                                                             \n",
       "⎜             \\gamma_{__{131}\\mathrm{I}\\rightarrow__{131*}\\mathrm{Xe}}⋅\\lambda\n",
       "⎜                                                                             \n",
       "⎜^{131}I(t) = ────────────────────────────────────────────────────────────────\n",
       "⎜                                                                             \n",
       "⎝                                                                             \n",
       "\n",
       "                     ⎛                                                        \n",
       "                     ⎜                                                        \n",
       "                     ⎜  \\gamma_{__{131*}\\mathrm{Xe}\\rightarrow__{131}\\mathrm{X\n",
       "_{__{131}\\mathrm{I}}⋅⎜- ──────────────────────────────────────────────────────\n",
       "                     ⎝    \\gamma_{__{131}\\mathrm{I}\\rightarrow__{131}\\mathrm{X\n",
       "──────────────────────────────────────────────────────────────────────────────\n",
       "                                                                              \n",
       "                                                                              \n",
       "\n",
       "                                      \\gamma_{__{131*}\\mathrm{Xe}\\rightarrow__\n",
       "                                    - ────────────────────────────────────────\n",
       "e}}⋅\\lambda_{__{131*}\\mathrm{Xe}}                                             \n",
       "───────────────────────────────── - ──────────────────────────────────────────\n",
       "e}}⋅\\lambda_{__{131}\\mathrm{I}}                                               \n",
       "──────────────────────────────────────────────────────────────────────────────\n",
       "                                      \\lambda_{__{131*}\\mathrm{Xe}} - \\lambda_\n",
       "                                                                              \n",
       "\n",
       "{131}\\mathrm{Xe}}⋅\\gamma_{__{131}\\mathrm{I}\\rightarrow__{131*}\\mathrm{Xe}}⋅\\la\n",
       "──────────────────────────────────────────────────────────────────────────────\n",
       "    \\gamma_{__{131}\\mathrm{I}\\rightarrow__{131}\\mathrm{Xe}}                   \n",
       "──────────────────────────────────────────────────────────────────────────────\n",
       "                    \\gamma_{__{131}\\mathrm{I}\\rightarrow__{131*}\\mathrm{Xe}}⋅\\\n",
       "──────────────────────────────────────────────────────────────────────────────\n",
       "{__{131}\\mathrm{I}}                                                           \n",
       "                                                                              \n",
       "\n",
       "mbda_{__{131*}\\mathrm{Xe}}                                                    \n",
       "────────────────────────── - \\lambda_{__{131*}\\mathrm{Xe}} + \\lambda_{__{131}\\\n",
       "                                                                              \n",
       "──────────────────────────────────────────────────────────────────────────────\n",
       "lambda_{__{131}\\mathrm{I}}                                                    \n",
       "──────────────────────────────────────────────────────────────────────────────\n",
       "                                                                              \n",
       "                                                                              \n",
       "\n",
       "          ⎞                                                                   \n",
       "mathrm{I}}⎟                                                                   \n",
       "          ⎟  -\\lambda_{__{131}\\mathrm{I}}⋅t                                   \n",
       "──────────⎟⋅ℯ                                                                 \n",
       "          ⎠                                                \\gamma_{__{131*}\\ma\n",
       "───────────────────────────────────────────, ^{131}Xe(t) = ───────────────────\n",
       "                                                                              \n",
       "                                                                              \n",
       "\n",
       "                                                                              \n",
       "                                                                              \n",
       "                                                                              \n",
       "                                                                              \n",
       "thrm{Xe}\\rightarrow__{131}\\mathrm{Xe}}⋅\\gamma_{__{131}\\mathrm{I}\\rightarrow__{\n",
       "──────────────────────────────────────────────────────────────────────────────\n",
       "                      (\\lambda_{__{131*}\\mathrm{Xe}} - \\lambda_{__{131}\\mathrm\n",
       "                                                                              \n",
       "\n",
       "                                                                              \n",
       "                                                                              \n",
       "                                                                              \n",
       "                                                                             -\n",
       "131*}\\mathrm{Xe}}⋅\\lambda_{__{131*}\\mathrm{Xe}}⋅\\lambda_{__{131}\\mathrm{I}}⋅ℯ \n",
       "──────────────────────────────────────────────────────────────────────────────\n",
       "{I}})⋅(\\lambda_{__{131*}\\mathrm{Xe}} - \\lambda_{__{131}\\mathrm{Xe}})          \n",
       "                                                                              \n",
       "\n",
       "                                                                              \n",
       "                                                                              \n",
       "                                                                              \n",
       "\\lambda_{__{131*}\\mathrm{Xe}}⋅t   \\gamma_{__{131}\\mathrm{I}\\rightarrow__{131}\\\n",
       "                                                                              \n",
       "─────────────────────────────── + ────────────────────────────────────────────\n",
       "                                                                              \n",
       "                                                                              \n",
       "\n",
       "                                                                              \n",
       "                                                                              \n",
       "                                        ⎛  \\gamma_{__{131*}\\mathrm{Xe}\\rightar\n",
       "mathrm{Xe}}⋅\\lambda_{__{131}\\mathrm{I}}⋅⎜- ───────────────────────────────────\n",
       "                                        ⎝                                     \n",
       "──────────────────────────────────────────────────────────────────────────────\n",
       "                                                          (\\lambda_{__{131*}\\m\n",
       "                                                                              \n",
       "\n",
       "                                                                              \n",
       "                                                                              \n",
       "row__{131}\\mathrm{Xe}}⋅\\gamma_{__{131}\\mathrm{I}\\rightarrow__{131*}\\mathrm{Xe}\n",
       "──────────────────────────────────────────────────────────────────────────────\n",
       "         \\gamma_{__{131}\\mathrm{I}\\rightarrow__{131}\\mathrm{Xe}}              \n",
       "──────────────────────────────────────────────────────────────────────────────\n",
       "athrm{Xe}} - \\lambda_{__{131}\\mathrm{I}})⋅(\\lambda_{__{131}\\mathrm{I}} - \\lamb\n",
       "                                                                              \n",
       "\n",
       "                                                                              \n",
       "                                                                              \n",
       "}⋅\\lambda_{__{131*}\\mathrm{Xe}}                                               \n",
       "─────────────────────────────── - \\lambda_{__{131*}\\mathrm{Xe}} + \\lambda_{__{\n",
       "                                                                              \n",
       "──────────────────────────────────────────────────────────────────────────────\n",
       "da_{__{131}\\mathrm{Xe}})                                                      \n",
       "                                                                              \n",
       "\n",
       "                                                                              \n",
       "                                                                              \n",
       "               ⎞  -\\lambda_{__{131}\\mathrm{I}}⋅t                              \n",
       "131}\\mathrm{I}}⎟⋅ℯ                                                            \n",
       "               ⎠                                   \\lambda_{__{131}\\mathrm{I}}\n",
       "──────────────────────────────────────────────── + ───────────────────────────\n",
       "                                                                              \n",
       "                                                                              \n",
       "\n",
       "                                                                              \n",
       "                                                                              \n",
       "                                                                              \n",
       "                                                                              \n",
       "⋅(\\gamma_{__{131*}\\mathrm{Xe}\\rightarrow__{131}\\mathrm{Xe}}⋅\\gamma_{__{131}\\ma\n",
       "──────────────────────────────────────────────────────────────────────────────\n",
       "                                                                              \n",
       "                                                           \\lambda_{__{131*}\\m\n",
       "\n",
       "                                                                              \n",
       "                                                                              \n",
       "                                                                              \n",
       "                                                                              \n",
       "thrm{I}\\rightarrow__{131*}\\mathrm{Xe}}⋅\\lambda_{__{131*}\\mathrm{Xe}} + \\gamma_\n",
       "──────────────────────────────────────────────────────────────────────────────\n",
       "                                                                              \n",
       "athrm{Xe}}⋅\\lambda_{__{131}\\mathrm{I}} - \\lambda_{__{131*}\\mathrm{Xe}}⋅\\lambda\n",
       "\n",
       "                                                                              \n",
       "                                                                              \n",
       "                                                                              \n",
       "                                                                              \n",
       "{__{131}\\mathrm{I}\\rightarrow__{131}\\mathrm{Xe}}⋅\\lambda_{__{131*}\\mathrm{Xe}}\n",
       "──────────────────────────────────────────────────────────────────────────────\n",
       "                                                                              \n",
       "_{__{131}\\mathrm{Xe}} - \\lambda_{__{131}\\mathrm{I}}⋅\\lambda_{__{131}\\mathrm{Xe\n",
       "\n",
       "                                                                              \n",
       "                                                                              \n",
       "                                                                              \n",
       "                                                                              \n",
       " - \\gamma_{__{131}\\mathrm{I}\\rightarrow__{131}\\mathrm{Xe}}⋅\\lambda_{__{131}\\ma\n",
       "──────────────────────────────────────────────────────────────────────────────\n",
       "                                 2                                            \n",
       "}} + \\lambda_{__{131}\\mathrm{Xe}}                                             \n",
       "\n",
       "                                                                              \n",
       "                                                                              \n",
       "                                                                              \n",
       "            -\\lambda_{__{131}\\mathrm{Xe}}⋅t                                   \n",
       "thrm{Xe}})⋅ℯ                                                \\gamma_{__{131}\\ma\n",
       "───────────────────────────────────────────, ^{131*}Xe(t) = ──────────────────\n",
       "                                                                              \n",
       "                                                                              \n",
       "\n",
       "                                                                              \n",
       "                                                                              \n",
       "                                                                              \n",
       "                                                                    -\\lambda_{\n",
       "thrm{I}\\rightarrow__{131*}\\mathrm{Xe}}⋅\\lambda_{__{131}\\mathrm{I}}⋅ℯ          \n",
       "──────────────────────────────────────────────────────────────────────────────\n",
       "          \\lambda_{__{131*}\\mathrm{Xe}} - \\lambda_{__{131}\\mathrm{I}}         \n",
       "                                                                              \n",
       "\n",
       "                                                                              \n",
       "                                                                              \n",
       "                                                                              \n",
       "__{131}\\mathrm{I}}⋅t                                                          \n",
       "                       \\gamma_{__{131}\\mathrm{I}\\rightarrow__{131*}\\mathrm{Xe}\n",
       "──────────────────── - ───────────────────────────────────────────────────────\n",
       "                                                    \\lambda_{__{131*}\\mathrm{X\n",
       "                                                                              \n",
       "\n",
       "                                                               ⎞\n",
       "                                                               ⎟\n",
       "                                                               ⎟\n",
       "                               -\\lambda_{__{131*}\\mathrm{Xe}}⋅t⎟\n",
       "}⋅\\lambda_{__{131}\\mathrm{I}}⋅ℯ                                ⎟\n",
       "───────────────────────────────────────────────────────────────⎟\n",
       "e}} - \\lambda_{__{131}\\mathrm{I}}                              ⎟\n",
       "                                                               ⎠"
      ]
     },
     "execution_count": 6,
     "metadata": {},
     "output_type": "execute_result"
    }
   ],
   "source": [
    "sols = Tuple(*dsolve(system, [I131(t), Xe131(t), Xe131m(t)], ics={I131(0):1, Xe131(0): 0, Xe131m(0): 0}))\n",
    "sols"
   ]
  },
  {
   "cell_type": "code",
   "execution_count": 7,
   "metadata": {
    "collapsed": false
   },
   "outputs": [
    {
     "data": {
      "image/png": "[encoded data removed]",
      "text/latex": [
       "$$\\left ( \\operatorname{^{131}I}{\\left (t \\right )} = 1.0 e^{- 1.00035373044333 \\cdot 10^{-6} t}, \\quad \\operatorname{^{131}Xe}{\\left (t \\right )} = 1.0 - 0.659084365102216 e^{- 1.00035373044333 \\cdot 10^{-6} t} - 0.340915634897788 e^{- 6.7757912263821 \\cdot 10^{-7} t}, \\quad \\operatorname{^{131*}Xe}{\\left (t \\right )} = - 0.340915634897788 e^{- 1.00035373044333 \\cdot 10^{-6} t} + 0.340915634897788 e^{- 6.7757912263821 \\cdot 10^{-7} t}\\right )$$"
      ],
      "text/plain": [
       "⎛                  -1.00035373044333e-6⋅t                                     \n",
       "⎝^{131}I(t) = 1.0⋅ℯ                      , ^{131}Xe(t) = 1.0 - 0.6590843651022\n",
       "\n",
       "    -1.00035373044333e-6⋅t                      -6.7757912263821e-7⋅t         \n",
       "16⋅ℯ                       - 0.340915634897788⋅ℯ                     , ^{131*}\n",
       "\n",
       "                             -1.00035373044333e-6⋅t                      -6.77\n",
       "Xe(t) = - 0.340915634897788⋅ℯ                       + 0.340915634897788⋅ℯ     \n",
       "\n",
       "57912263821e-7⋅t⎞\n",
       "                ⎠"
      ]
     },
     "execution_count": 7,
     "metadata": {},
     "output_type": "execute_result"
    }
   ],
   "source": [
    "nsols = Tuple(*dsolve(nsystem, [I131(t), Xe131(t), Xe131m(t)], ics={I131(0):1, Xe131(0): 0, Xe131m(0): 0}))\n",
    "nsols"
   ]
  },
  {
   "cell_type": "code",
   "execution_count": 8,
   "metadata": {
    "collapsed": false
   },
   "outputs": [
    {
     "data": {
      "image/png": "[encoded data removed]",
      "text/latex": [
       "$$\\left ( \\operatorname{^{131}I}{\\left (t \\right )} = 1.0 e^{- 1.00035373044333 \\cdot 10^{-6} t}, \\quad \\operatorname{^{131}Xe}{\\left (t \\right )} = 1.0 - 0.659084365102217 e^{- 1.00035373044333 \\cdot 10^{-6} t} - 0.340915634897783 e^{- 6.7757912263821 \\cdot 10^{-7} t}, \\quad \\operatorname{^{131*}Xe}{\\left (t \\right )} = - 0.340915634897783 e^{- 1.00035373044333 \\cdot 10^{-6} t} + 0.340915634897783 e^{- 6.7757912263821 \\cdot 10^{-7} t}\\right )$$"
      ],
      "text/plain": [
       "⎛                  -1.00035373044333e-6⋅t                                     \n",
       "⎝^{131}I(t) = 1.0⋅ℯ                      , ^{131}Xe(t) = 1.0 - 0.6590843651022\n",
       "\n",
       "    -1.00035373044333e-6⋅t                      -6.7757912263821e-7⋅t         \n",
       "17⋅ℯ                       - 0.340915634897783⋅ℯ                     , ^{131*}\n",
       "\n",
       "                             -1.00035373044333e-6⋅t                      -6.77\n",
       "Xe(t) = - 0.340915634897783⋅ℯ                       + 0.340915634897783⋅ℯ     \n",
       "\n",
       "57912263821e-7⋅t⎞\n",
       "                ⎠"
      ]
     },
     "execution_count": 8,
     "metadata": {},
     "output_type": "execute_result"
    }
   ],
   "source": [
    "sols.subs(values).subs(values)"
   ]
  },
  {
   "cell_type": "code",
   "execution_count": 9,
   "metadata": {
    "collapsed": false
   },
   "outputs": [
    {
     "name": "stdout",
     "output_type": "stream",
     "text": [
      "I131 = 1.0*exp(-1.00035373044333e-6*t);\n",
      "Xe131 = 1.0 - 0.659084365102216*exp(-1.00035373044333e-6*t) - 0.340915634897788*exp(-6.7757912263821e-7*t);\n",
      "Xe131m = -0.340915634897788*exp(-1.00035373044333e-6*t) + 0.340915634897788*exp(-6.7757912263821e-7*t);\n"
     ]
    }
   ],
   "source": [
    "for sol in nsols:\n",
    "    print(ccode(sol.rhs, assign_to=var_names[sol.lhs.func]))"
   ]
  },
  {
   "cell_type": "code",
   "execution_count": 10,
   "metadata": {
    "collapsed": false
   },
   "outputs": [],
   "source": [
    "def optimize(expr):\n",
    "    return expr.replace(exp, lambda x: 2**(x/log(2.))).subs(1.0, 1)"
   ]
  },
  {
   "cell_type": "code",
   "execution_count": 11,
   "metadata": {
    "collapsed": false
   },
   "outputs": [
    {
     "name": "stdout",
     "output_type": "stream",
     "text": [
      "I131 = pow(2, -1.44320536604537e-6*t);\n",
      "Xe131 = 1.0 - 0.659084365102216*pow(2, -1.44320536604537e-6*t) - 0.340915634897788*pow(2, -9.7754004004004e-7*t);\n",
      "Xe131m = -0.340915634897788*pow(2, -1.44320536604537e-6*t) + 0.340915634897788*pow(2, -9.7754004004004e-7*t);\n"
     ]
    }
   ],
   "source": [
    "for sol in nsols:\n",
    "    sol = optimize(sol)\n",
    "    print(ccode(sol.rhs, assign_to=var_names[sol.lhs.func]))"
   ]
  },
  {
   "cell_type": "code",
   "execution_count": 12,
   "metadata": {
    "collapsed": false
   },
   "outputs": [
    {
     "data": {
      "image/png": "[encoded data removed]",
      "text/latex": [
       "$$\\operatorname{^{131}I}{\\left (t \\right )} = 1.0 e^{- 1.00035373044333 \\cdot 10^{-6} t}$$"
      ],
      "text/plain": [
       "                  -1.00035373044333e-6⋅t\n",
       "^{131}I(t) = 1.0⋅ℯ                      "
      ]
     },
     "execution_count": 12,
     "metadata": {},
     "output_type": "execute_result"
    }
   ],
   "source": [
    "nsols[0]"
   ]
  },
  {
   "cell_type": "code",
   "execution_count": 53,
   "metadata": {
    "collapsed": false
   },
   "outputs": [
    {
     "data": {
      "image/png": "[encoded data removed]",
      "text/latex": [
       "$$\\operatorname{^{131}I}{\\left (t \\right )} = 2^{- 1.44320536604537 \\cdot 10^{-6} t}$$"
      ],
      "text/plain": [
       "              -1.44320536604537e-6⋅t\n",
       "^{131}I(t) = 2                      "
      ]
     },
     "execution_count": 53,
     "metadata": {},
     "output_type": "execute_result"
    }
   ],
   "source": [
    "optimize(nsols[0])"
   ]
  },
  {
   "cell_type": "code",
   "execution_count": 76,
   "metadata": {
    "collapsed": true
   },
   "outputs": [],
   "source": [
    "from sympy.utilities.autowrap import ufuncify\n",
    "import numpy as np\n",
    "import matplotlib.pyplot as plt\n",
    "%matplotlib inline"
   ]
  },
  {
   "cell_type": "code",
   "execution_count": 101,
   "metadata": {
    "collapsed": false
   },
   "outputs": [
    {
     "data": {
      "image/png": "[encoded data removed]",
      "text/plain": [
       "<matplotlib.figure.Figure at 0x1179a9080>"
      ]
     },
     "metadata": {},
     "output_type": "display_data"
    }
   ],
   "source": [
    "end = int(100*days/seconds)\n",
    "times = np.linspace(0, end, 10000)\n",
    "f = ufuncify(t, [sol.rhs for sol in nsols])\n",
    "plt.ylim((0, 1))\n",
    "locs, lables = plt.xticks()\n",
    "plt.xticks(np.linspace(0, end, len(locs)), \n",
    "           [str(int(i)) for i in np.linspace(0, 100, len(locs))])\n",
    "plt.xlabel(\"Days\")\n",
    "y = np.asarray(f(times)).T\n",
    "plt.plot(times, y);\n",
    "plt.legend([var_names[sol.lhs.func] for sol in nsols]);"
   ]
  },
  {
   "cell_type": "code",
   "execution_count": 103,
   "metadata": {
    "collapsed": false
   },
   "outputs": [],
   "source": [
    " f(array([a1, a2, ..., a100]), b) = "
   ]
  },
  {
   "cell_type": "code",
   "execution_count": null,
   "metadata": {
    "collapsed": true
   },
   "outputs": [],
   "source": [
    "a = 100, ...\n",
    "b = np.zeros(100)\n",
    "\n",
    "g(a):\n",
    "  return f(a, b)"
   ]
  }
 ],
 "metadata": {
  "anaconda-cloud": {},
  "kernelspec": {
   "display_name": "Python [Root]",
   "language": "python",
   "name": "Python [Root]"
  },
  "language_info": {
   "codemirror_mode": {
    "name": "ipython",
    "version": 3
   },
   "file_extension": ".py",
   "mimetype": "text/x-python",
   "name": "python",
   "nbconvert_exporter": "python",
   "pygments_lexer": "ipython3",
   "version": "3.5.1"
  },
  "widgets": {
   "state": {},
   "version": "1.1.2"
  }
 },
 "nbformat": 4,
 "nbformat_minor": 0
}
